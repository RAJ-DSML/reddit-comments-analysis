{
 "cells": [
  {
   "cell_type": "code",
   "execution_count": 1,
   "id": "06ff6b7c",
   "metadata": {},
   "outputs": [],
   "source": [
    "import pandas as pd"
   ]
  },
  {
   "cell_type": "code",
   "execution_count": 2,
   "id": "1dc6dfd8",
   "metadata": {
    "scrolled": false
   },
   "outputs": [],
   "source": [
    "original_dataFrame = pd.read_csv(\"reddit_comments_analysis.csv\")"
   ]
  },
  {
   "cell_type": "code",
   "execution_count": 3,
   "id": "5d49837b",
   "metadata": {},
   "outputs": [
    {
     "data": {
      "text/plain": [
       "(2987, 10)"
      ]
     },
     "execution_count": 3,
     "metadata": {},
     "output_type": "execute_result"
    }
   ],
   "source": [
    "original_dataFrame.shape"
   ]
  },
  {
   "cell_type": "code",
   "execution_count": 4,
   "id": "360dfbea",
   "metadata": {},
   "outputs": [
    {
     "name": "stdout",
     "output_type": "stream",
     "text": [
      "<class 'pandas.core.frame.DataFrame'>\n",
      "RangeIndex: 2987 entries, 0 to 2986\n",
      "Data columns (total 10 columns):\n",
      " #   Column        Non-Null Count  Dtype  \n",
      "---  ------        --------------  -----  \n",
      " 0   post_id       2987 non-null   object \n",
      " 1   post_title    2987 non-null   object \n",
      " 2   subreddit     2987 non-null   object \n",
      " 3   post_url      2987 non-null   object \n",
      " 4   flair_text    2441 non-null   object \n",
      " 5   score         2987 non-null   int64  \n",
      " 6   comments      2987 non-null   int64  \n",
      " 7   upvote_ratio  2987 non-null   float64\n",
      " 8   date-time     2987 non-null   object \n",
      " 9   year          2987 non-null   int64  \n",
      "dtypes: float64(1), int64(3), object(6)\n",
      "memory usage: 233.5+ KB\n"
     ]
    }
   ],
   "source": [
    "original_dataFrame.info()"
   ]
  },
  {
   "cell_type": "code",
   "execution_count": 5,
   "id": "9c034869",
   "metadata": {},
   "outputs": [
    {
     "data": {
      "text/plain": [
       "0       186\n",
       "1       133\n",
       "2       111\n",
       "3       230\n",
       "4       228\n",
       "       ... \n",
       "2982      6\n",
       "2983      1\n",
       "2984      2\n",
       "2985     10\n",
       "2986     10\n",
       "Name: comments, Length: 2987, dtype: int64"
      ]
     },
     "execution_count": 5,
     "metadata": {},
     "output_type": "execute_result"
    }
   ],
   "source": [
    "original_dataFrame.comments"
   ]
  },
  {
   "cell_type": "code",
   "execution_count": 6,
   "id": "e70ca25f",
   "metadata": {},
   "outputs": [
    {
     "name": "stdout",
     "output_type": "stream",
     "text": [
      "<class 'pandas.core.frame.DataFrame'>\n",
      "RangeIndex: 2987 entries, 0 to 2986\n",
      "Data columns (total 10 columns):\n",
      " #   Column          Non-Null Count  Dtype  \n",
      "---  ------          --------------  -----  \n",
      " 0   post_id         2987 non-null   object \n",
      " 1   post_title      2987 non-null   object \n",
      " 2   subreddit       2987 non-null   object \n",
      " 3   post_url        2987 non-null   object \n",
      " 4   flair_text      2441 non-null   object \n",
      " 5   score           2987 non-null   int64  \n",
      " 6   comments_count  2987 non-null   int64  \n",
      " 7   upvote_ratio    2987 non-null   float64\n",
      " 8   date-time       2987 non-null   object \n",
      " 9   year            2987 non-null   int64  \n",
      "dtypes: float64(1), int64(3), object(6)\n",
      "memory usage: 233.5+ KB\n"
     ]
    }
   ],
   "source": [
    "# renaming the column name: comments to comments_count\n",
    "original_dataFrame.rename(columns={'comments':'comments_count'}, inplace=True)\n",
    "original_dataFrame.info()"
   ]
  },
  {
   "cell_type": "code",
   "execution_count": 7,
   "id": "d86bde5a",
   "metadata": {},
   "outputs": [],
   "source": [
    "import nltk\n",
    "from nltk.corpus import stopwords\n",
    "from nltk.stem import WordNetLemmatizer"
   ]
  },
  {
   "cell_type": "code",
   "execution_count": 8,
   "id": "556d190b",
   "metadata": {},
   "outputs": [
    {
     "name": "stderr",
     "output_type": "stream",
     "text": [
      "[nltk_data] Downloading package stopwords to\n",
      "[nltk_data]     C:\\Users\\rajkumar.p\\AppData\\Roaming\\nltk_data...\n",
      "[nltk_data]   Package stopwords is already up-to-date!\n"
     ]
    },
    {
     "data": {
      "text/plain": [
       "True"
      ]
     },
     "execution_count": 8,
     "metadata": {},
     "output_type": "execute_result"
    }
   ],
   "source": [
    "nltk.download('stopwords')"
   ]
  },
  {
   "cell_type": "code",
   "execution_count": 9,
   "id": "891d3833",
   "metadata": {},
   "outputs": [
    {
     "name": "stderr",
     "output_type": "stream",
     "text": [
      "[nltk_data] Downloading package wordnet to\n",
      "[nltk_data]     C:\\Users\\rajkumar.p\\AppData\\Roaming\\nltk_data...\n",
      "[nltk_data]   Package wordnet is already up-to-date!\n"
     ]
    },
    {
     "data": {
      "text/plain": [
       "True"
      ]
     },
     "execution_count": 9,
     "metadata": {},
     "output_type": "execute_result"
    }
   ],
   "source": [
    "nltk.download('wordnet')"
   ]
  },
  {
   "cell_type": "code",
   "execution_count": 14,
   "id": "141bcbce",
   "metadata": {},
   "outputs": [
    {
     "data": {
      "text/plain": [
       "0       [Project] From books to presentations in 10s w...\n",
       "1       [D] A Demo from 1993 of 32-year-old Yann LeCun...\n",
       "2       [R] First Order Motion Model applied to animat...\n",
       "3       [N] AI can turn old photos into moving Images ...\n",
       "4       [D] This AI reveals how much time politicians ...\n",
       "                              ...                        \n",
       "2982    We live in beautiful times where you can learn...\n",
       "2983      Yann LeCun’s Deep Learning Course Free From NYU\n",
       "2984    You Can Now Learn for FREE: 9 Courses by Googl...\n",
       "2985    Chatbot trained on \"public domain social media...\n",
       "2986    Tesla's Neural Net can now identify red and gr...\n",
       "Name: post_title, Length: 2987, dtype: object"
      ]
     },
     "execution_count": 14,
     "metadata": {},
     "output_type": "execute_result"
    }
   ],
   "source": [
    "original_dataFrame.post_title"
   ]
  },
  {
   "cell_type": "code",
   "execution_count": 15,
   "id": "478bd2d2",
   "metadata": {},
   "outputs": [
    {
     "data": {
      "text/html": [
       "<div>\n",
       "<style scoped>\n",
       "    .dataframe tbody tr th:only-of-type {\n",
       "        vertical-align: middle;\n",
       "    }\n",
       "\n",
       "    .dataframe tbody tr th {\n",
       "        vertical-align: top;\n",
       "    }\n",
       "\n",
       "    .dataframe thead th {\n",
       "        text-align: right;\n",
       "    }\n",
       "</style>\n",
       "<table border=\"1\" class=\"dataframe\">\n",
       "  <thead>\n",
       "    <tr style=\"text-align: right;\">\n",
       "      <th></th>\n",
       "      <th>post_id</th>\n",
       "      <th>comment</th>\n",
       "    </tr>\n",
       "  </thead>\n",
       "  <tbody>\n",
       "    <tr>\n",
       "      <th>0</th>\n",
       "      <td>gh1dj9</td>\n",
       "      <td>Twitter thread: [https://twitter.com/cyrildiag...</td>\n",
       "    </tr>\n",
       "    <tr>\n",
       "      <th>1</th>\n",
       "      <td>gh1dj9</td>\n",
       "      <td>The future 🤯</td>\n",
       "    </tr>\n",
       "    <tr>\n",
       "      <th>2</th>\n",
       "      <td>gh1dj9</td>\n",
       "      <td>Simple yet very useful. Thank you for sharing ...</td>\n",
       "    </tr>\n",
       "    <tr>\n",
       "      <th>3</th>\n",
       "      <td>gh1dj9</td>\n",
       "      <td>Almost guaranteed, Apple will copy your idea i...</td>\n",
       "    </tr>\n",
       "    <tr>\n",
       "      <th>4</th>\n",
       "      <td>gh1dj9</td>\n",
       "      <td>Ohh the nightmare of making this into a stable...</td>\n",
       "    </tr>\n",
       "    <tr>\n",
       "      <th>...</th>\n",
       "      <td>...</td>\n",
       "      <td>...</td>\n",
       "    </tr>\n",
       "    <tr>\n",
       "      <th>223169</th>\n",
       "      <td>efk5n3</td>\n",
       "      <td>LiDAR is mot powerful sensor for the auto driv...</td>\n",
       "    </tr>\n",
       "    <tr>\n",
       "      <th>223170</th>\n",
       "      <td>efk5n3</td>\n",
       "      <td>So it can now idenrify traffic lights? Musk pr...</td>\n",
       "    </tr>\n",
       "    <tr>\n",
       "      <th>223171</th>\n",
       "      <td>efk5n3</td>\n",
       "      <td>Hydranet bro!</td>\n",
       "    </tr>\n",
       "    <tr>\n",
       "      <th>223172</th>\n",
       "      <td>efk5n3</td>\n",
       "      <td>It even shows flashing yellow turn arrows.</td>\n",
       "    </tr>\n",
       "    <tr>\n",
       "      <th>223173</th>\n",
       "      <td>efk5n3</td>\n",
       "      <td>Ya just saw karpathy talk on hydra and pytorch.</td>\n",
       "    </tr>\n",
       "  </tbody>\n",
       "</table>\n",
       "<p>223174 rows × 2 columns</p>\n",
       "</div>"
      ],
      "text/plain": [
       "       post_id                                            comment\n",
       "0       gh1dj9  Twitter thread: [https://twitter.com/cyrildiag...\n",
       "1       gh1dj9                                       The future 🤯\n",
       "2       gh1dj9  Simple yet very useful. Thank you for sharing ...\n",
       "3       gh1dj9  Almost guaranteed, Apple will copy your idea i...\n",
       "4       gh1dj9  Ohh the nightmare of making this into a stable...\n",
       "...        ...                                                ...\n",
       "223169  efk5n3  LiDAR is mot powerful sensor for the auto driv...\n",
       "223170  efk5n3  So it can now idenrify traffic lights? Musk pr...\n",
       "223171  efk5n3                                      Hydranet bro!\n",
       "223172  efk5n3         It even shows flashing yellow turn arrows.\n",
       "223173  efk5n3    Ya just saw karpathy talk on hydra and pytorch.\n",
       "\n",
       "[223174 rows x 2 columns]"
      ]
     },
     "execution_count": 15,
     "metadata": {},
     "output_type": "execute_result"
    }
   ],
   "source": [
    "posts_comments_dataFrame = pd.read_csv(\"reddit_posts_comments.csv\")\n",
    "posts_comments_dataFrame"
   ]
  },
  {
   "cell_type": "code",
   "execution_count": 16,
   "id": "66b1bed5",
   "metadata": {},
   "outputs": [
    {
     "data": {
      "text/plain": [
       "artificial         999\n",
       "MachineLearning    998\n",
       "datascience        990\n",
       "Name: subreddit, dtype: int64"
      ]
     },
     "execution_count": 16,
     "metadata": {},
     "output_type": "execute_result"
    }
   ],
   "source": [
    "reddit_subject = original_dataFrame.subreddit.value_counts()\n",
    "reddit_subject"
   ]
  },
  {
   "cell_type": "code",
   "execution_count": 18,
   "id": "62e367ba",
   "metadata": {},
   "outputs": [
    {
     "data": {
      "text/html": [
       "<div>\n",
       "<style scoped>\n",
       "    .dataframe tbody tr th:only-of-type {\n",
       "        vertical-align: middle;\n",
       "    }\n",
       "\n",
       "    .dataframe tbody tr th {\n",
       "        vertical-align: top;\n",
       "    }\n",
       "\n",
       "    .dataframe thead th {\n",
       "        text-align: right;\n",
       "    }\n",
       "</style>\n",
       "<table border=\"1\" class=\"dataframe\">\n",
       "  <thead>\n",
       "    <tr style=\"text-align: right;\">\n",
       "      <th></th>\n",
       "      <th>post_id</th>\n",
       "      <th>post_title</th>\n",
       "      <th>subreddit</th>\n",
       "      <th>post_url</th>\n",
       "      <th>flair_text</th>\n",
       "      <th>score</th>\n",
       "      <th>comments_count</th>\n",
       "      <th>upvote_ratio</th>\n",
       "      <th>date-time</th>\n",
       "      <th>year</th>\n",
       "      <th>comment</th>\n",
       "    </tr>\n",
       "  </thead>\n",
       "  <tbody>\n",
       "    <tr>\n",
       "      <th>0</th>\n",
       "      <td>gh1dj9</td>\n",
       "      <td>[Project] From books to presentations in 10s w...</td>\n",
       "      <td>MachineLearning</td>\n",
       "      <td>https://v.redd.it/v492uoheuxx41</td>\n",
       "      <td>Project</td>\n",
       "      <td>7798</td>\n",
       "      <td>186</td>\n",
       "      <td>0.99</td>\n",
       "      <td>2020-05-10 13:19:54</td>\n",
       "      <td>2020</td>\n",
       "      <td>Twitter thread: [https://twitter.com/cyrildiag...</td>\n",
       "    </tr>\n",
       "    <tr>\n",
       "      <th>1</th>\n",
       "      <td>gh1dj9</td>\n",
       "      <td>[Project] From books to presentations in 10s w...</td>\n",
       "      <td>MachineLearning</td>\n",
       "      <td>https://v.redd.it/v492uoheuxx41</td>\n",
       "      <td>Project</td>\n",
       "      <td>7798</td>\n",
       "      <td>186</td>\n",
       "      <td>0.99</td>\n",
       "      <td>2020-05-10 13:19:54</td>\n",
       "      <td>2020</td>\n",
       "      <td>The future 🤯</td>\n",
       "    </tr>\n",
       "    <tr>\n",
       "      <th>2</th>\n",
       "      <td>gh1dj9</td>\n",
       "      <td>[Project] From books to presentations in 10s w...</td>\n",
       "      <td>MachineLearning</td>\n",
       "      <td>https://v.redd.it/v492uoheuxx41</td>\n",
       "      <td>Project</td>\n",
       "      <td>7798</td>\n",
       "      <td>186</td>\n",
       "      <td>0.99</td>\n",
       "      <td>2020-05-10 13:19:54</td>\n",
       "      <td>2020</td>\n",
       "      <td>Simple yet very useful. Thank you for sharing ...</td>\n",
       "    </tr>\n",
       "    <tr>\n",
       "      <th>3</th>\n",
       "      <td>gh1dj9</td>\n",
       "      <td>[Project] From books to presentations in 10s w...</td>\n",
       "      <td>MachineLearning</td>\n",
       "      <td>https://v.redd.it/v492uoheuxx41</td>\n",
       "      <td>Project</td>\n",
       "      <td>7798</td>\n",
       "      <td>186</td>\n",
       "      <td>0.99</td>\n",
       "      <td>2020-05-10 13:19:54</td>\n",
       "      <td>2020</td>\n",
       "      <td>Almost guaranteed, Apple will copy your idea i...</td>\n",
       "    </tr>\n",
       "    <tr>\n",
       "      <th>4</th>\n",
       "      <td>gh1dj9</td>\n",
       "      <td>[Project] From books to presentations in 10s w...</td>\n",
       "      <td>MachineLearning</td>\n",
       "      <td>https://v.redd.it/v492uoheuxx41</td>\n",
       "      <td>Project</td>\n",
       "      <td>7798</td>\n",
       "      <td>186</td>\n",
       "      <td>0.99</td>\n",
       "      <td>2020-05-10 13:19:54</td>\n",
       "      <td>2020</td>\n",
       "      <td>Ohh the nightmare of making this into a stable...</td>\n",
       "    </tr>\n",
       "    <tr>\n",
       "      <th>...</th>\n",
       "      <td>...</td>\n",
       "      <td>...</td>\n",
       "      <td>...</td>\n",
       "      <td>...</td>\n",
       "      <td>...</td>\n",
       "      <td>...</td>\n",
       "      <td>...</td>\n",
       "      <td>...</td>\n",
       "      <td>...</td>\n",
       "      <td>...</td>\n",
       "      <td>...</td>\n",
       "    </tr>\n",
       "    <tr>\n",
       "      <th>223163</th>\n",
       "      <td>efk5n3</td>\n",
       "      <td>Tesla's Neural Net can now identify red and gr...</td>\n",
       "      <td>artificial</td>\n",
       "      <td>https://www.teslarati.com/tesla-holiday-update...</td>\n",
       "      <td>NaN</td>\n",
       "      <td>80</td>\n",
       "      <td>10</td>\n",
       "      <td>0.89</td>\n",
       "      <td>2019-12-25 18:50:50</td>\n",
       "      <td>2019</td>\n",
       "      <td>LiDAR is mot powerful sensor for the auto driv...</td>\n",
       "    </tr>\n",
       "    <tr>\n",
       "      <th>223164</th>\n",
       "      <td>efk5n3</td>\n",
       "      <td>Tesla's Neural Net can now identify red and gr...</td>\n",
       "      <td>artificial</td>\n",
       "      <td>https://www.teslarati.com/tesla-holiday-update...</td>\n",
       "      <td>NaN</td>\n",
       "      <td>80</td>\n",
       "      <td>10</td>\n",
       "      <td>0.89</td>\n",
       "      <td>2019-12-25 18:50:50</td>\n",
       "      <td>2019</td>\n",
       "      <td>So it can now idenrify traffic lights? Musk pr...</td>\n",
       "    </tr>\n",
       "    <tr>\n",
       "      <th>223165</th>\n",
       "      <td>efk5n3</td>\n",
       "      <td>Tesla's Neural Net can now identify red and gr...</td>\n",
       "      <td>artificial</td>\n",
       "      <td>https://www.teslarati.com/tesla-holiday-update...</td>\n",
       "      <td>NaN</td>\n",
       "      <td>80</td>\n",
       "      <td>10</td>\n",
       "      <td>0.89</td>\n",
       "      <td>2019-12-25 18:50:50</td>\n",
       "      <td>2019</td>\n",
       "      <td>Hydranet bro!</td>\n",
       "    </tr>\n",
       "    <tr>\n",
       "      <th>223166</th>\n",
       "      <td>efk5n3</td>\n",
       "      <td>Tesla's Neural Net can now identify red and gr...</td>\n",
       "      <td>artificial</td>\n",
       "      <td>https://www.teslarati.com/tesla-holiday-update...</td>\n",
       "      <td>NaN</td>\n",
       "      <td>80</td>\n",
       "      <td>10</td>\n",
       "      <td>0.89</td>\n",
       "      <td>2019-12-25 18:50:50</td>\n",
       "      <td>2019</td>\n",
       "      <td>It even shows flashing yellow turn arrows.</td>\n",
       "    </tr>\n",
       "    <tr>\n",
       "      <th>223167</th>\n",
       "      <td>efk5n3</td>\n",
       "      <td>Tesla's Neural Net can now identify red and gr...</td>\n",
       "      <td>artificial</td>\n",
       "      <td>https://www.teslarati.com/tesla-holiday-update...</td>\n",
       "      <td>NaN</td>\n",
       "      <td>80</td>\n",
       "      <td>10</td>\n",
       "      <td>0.89</td>\n",
       "      <td>2019-12-25 18:50:50</td>\n",
       "      <td>2019</td>\n",
       "      <td>Ya just saw karpathy talk on hydra and pytorch.</td>\n",
       "    </tr>\n",
       "  </tbody>\n",
       "</table>\n",
       "<p>223168 rows × 11 columns</p>\n",
       "</div>"
      ],
      "text/plain": [
       "       post_id                                         post_title  \\\n",
       "0       gh1dj9  [Project] From books to presentations in 10s w...   \n",
       "1       gh1dj9  [Project] From books to presentations in 10s w...   \n",
       "2       gh1dj9  [Project] From books to presentations in 10s w...   \n",
       "3       gh1dj9  [Project] From books to presentations in 10s w...   \n",
       "4       gh1dj9  [Project] From books to presentations in 10s w...   \n",
       "...        ...                                                ...   \n",
       "223163  efk5n3  Tesla's Neural Net can now identify red and gr...   \n",
       "223164  efk5n3  Tesla's Neural Net can now identify red and gr...   \n",
       "223165  efk5n3  Tesla's Neural Net can now identify red and gr...   \n",
       "223166  efk5n3  Tesla's Neural Net can now identify red and gr...   \n",
       "223167  efk5n3  Tesla's Neural Net can now identify red and gr...   \n",
       "\n",
       "              subreddit                                           post_url  \\\n",
       "0       MachineLearning                    https://v.redd.it/v492uoheuxx41   \n",
       "1       MachineLearning                    https://v.redd.it/v492uoheuxx41   \n",
       "2       MachineLearning                    https://v.redd.it/v492uoheuxx41   \n",
       "3       MachineLearning                    https://v.redd.it/v492uoheuxx41   \n",
       "4       MachineLearning                    https://v.redd.it/v492uoheuxx41   \n",
       "...                 ...                                                ...   \n",
       "223163       artificial  https://www.teslarati.com/tesla-holiday-update...   \n",
       "223164       artificial  https://www.teslarati.com/tesla-holiday-update...   \n",
       "223165       artificial  https://www.teslarati.com/tesla-holiday-update...   \n",
       "223166       artificial  https://www.teslarati.com/tesla-holiday-update...   \n",
       "223167       artificial  https://www.teslarati.com/tesla-holiday-update...   \n",
       "\n",
       "       flair_text  score  comments_count  upvote_ratio            date-time  \\\n",
       "0         Project   7798             186          0.99  2020-05-10 13:19:54   \n",
       "1         Project   7798             186          0.99  2020-05-10 13:19:54   \n",
       "2         Project   7798             186          0.99  2020-05-10 13:19:54   \n",
       "3         Project   7798             186          0.99  2020-05-10 13:19:54   \n",
       "4         Project   7798             186          0.99  2020-05-10 13:19:54   \n",
       "...           ...    ...             ...           ...                  ...   \n",
       "223163        NaN     80              10          0.89  2019-12-25 18:50:50   \n",
       "223164        NaN     80              10          0.89  2019-12-25 18:50:50   \n",
       "223165        NaN     80              10          0.89  2019-12-25 18:50:50   \n",
       "223166        NaN     80              10          0.89  2019-12-25 18:50:50   \n",
       "223167        NaN     80              10          0.89  2019-12-25 18:50:50   \n",
       "\n",
       "        year                                            comment  \n",
       "0       2020  Twitter thread: [https://twitter.com/cyrildiag...  \n",
       "1       2020                                       The future 🤯  \n",
       "2       2020  Simple yet very useful. Thank you for sharing ...  \n",
       "3       2020  Almost guaranteed, Apple will copy your idea i...  \n",
       "4       2020  Ohh the nightmare of making this into a stable...  \n",
       "...      ...                                                ...  \n",
       "223163  2019  LiDAR is mot powerful sensor for the auto driv...  \n",
       "223164  2019  So it can now idenrify traffic lights? Musk pr...  \n",
       "223165  2019                                      Hydranet bro!  \n",
       "223166  2019         It even shows flashing yellow turn arrows.  \n",
       "223167  2019    Ya just saw karpathy talk on hydra and pytorch.  \n",
       "\n",
       "[223168 rows x 11 columns]"
      ]
     },
     "execution_count": 18,
     "metadata": {},
     "output_type": "execute_result"
    }
   ],
   "source": [
    "# Merging the two files by using the common column \"post_id\"\n",
    "\n",
    "merged_dataFrame = pd.merge(original_dataFrame, posts_comments_dataFrame, how='inner', on='post_id')\n",
    "merged_dataFrame"
   ]
  },
  {
   "cell_type": "code",
   "execution_count": 19,
   "id": "de1efa45",
   "metadata": {},
   "outputs": [
    {
     "name": "stdout",
     "output_type": "stream",
     "text": [
      "<class 'pandas.core.frame.DataFrame'>\n",
      "Int64Index: 223168 entries, 0 to 223167\n",
      "Data columns (total 11 columns):\n",
      " #   Column          Non-Null Count   Dtype  \n",
      "---  ------          --------------   -----  \n",
      " 0   post_id         223168 non-null  object \n",
      " 1   post_title      223168 non-null  object \n",
      " 2   subreddit       223168 non-null  object \n",
      " 3   post_url        223168 non-null  object \n",
      " 4   flair_text      198430 non-null  object \n",
      " 5   score           223168 non-null  int64  \n",
      " 6   comments_count  223168 non-null  int64  \n",
      " 7   upvote_ratio    223168 non-null  float64\n",
      " 8   date-time       223168 non-null  object \n",
      " 9   year            223168 non-null  int64  \n",
      " 10  comment         223159 non-null  object \n",
      "dtypes: float64(1), int64(3), object(7)\n",
      "memory usage: 20.4+ MB\n"
     ]
    }
   ],
   "source": [
    "merged_dataFrame.info()"
   ]
  },
  {
   "cell_type": "code",
   "execution_count": null,
   "id": "25641511",
   "metadata": {},
   "outputs": [],
   "source": []
  }
 ],
 "metadata": {
  "kernelspec": {
   "display_name": "Python 3 (ipykernel)",
   "language": "python",
   "name": "python3"
  },
  "language_info": {
   "codemirror_mode": {
    "name": "ipython",
    "version": 3
   },
   "file_extension": ".py",
   "mimetype": "text/x-python",
   "name": "python",
   "nbconvert_exporter": "python",
   "pygments_lexer": "ipython3",
   "version": "3.9.16"
  }
 },
 "nbformat": 4,
 "nbformat_minor": 5
}
