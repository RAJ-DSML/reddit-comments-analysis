{
 "cells": [
  {
   "cell_type": "code",
   "execution_count": 1,
   "id": "df39637c",
   "metadata": {},
   "outputs": [],
   "source": [
    "import pandas as pd"
   ]
  },
  {
   "cell_type": "code",
   "execution_count": 2,
   "id": "50631968",
   "metadata": {
    "scrolled": false
   },
   "outputs": [
    {
     "data": {
      "text/html": [
       "<div>\n",
       "<style scoped>\n",
       "    .dataframe tbody tr th:only-of-type {\n",
       "        vertical-align: middle;\n",
       "    }\n",
       "\n",
       "    .dataframe tbody tr th {\n",
       "        vertical-align: top;\n",
       "    }\n",
       "\n",
       "    .dataframe thead th {\n",
       "        text-align: right;\n",
       "    }\n",
       "</style>\n",
       "<table border=\"1\" class=\"dataframe\">\n",
       "  <thead>\n",
       "    <tr style=\"text-align: right;\">\n",
       "      <th></th>\n",
       "      <th>post_id</th>\n",
       "      <th>post_title</th>\n",
       "      <th>subreddit</th>\n",
       "      <th>post_url</th>\n",
       "      <th>flair_text</th>\n",
       "      <th>score</th>\n",
       "      <th>comments</th>\n",
       "      <th>upvote_ratio</th>\n",
       "      <th>date-time</th>\n",
       "      <th>year</th>\n",
       "    </tr>\n",
       "  </thead>\n",
       "  <tbody>\n",
       "    <tr>\n",
       "      <th>0</th>\n",
       "      <td>gh1dj9</td>\n",
       "      <td>[Project] From books to presentations in 10s w...</td>\n",
       "      <td>MachineLearning</td>\n",
       "      <td>https://v.redd.it/v492uoheuxx41</td>\n",
       "      <td>Project</td>\n",
       "      <td>7798</td>\n",
       "      <td>186</td>\n",
       "      <td>0.99</td>\n",
       "      <td>2020-05-10 13:19:54</td>\n",
       "      <td>2020</td>\n",
       "    </tr>\n",
       "    <tr>\n",
       "      <th>1</th>\n",
       "      <td>kuc6tz</td>\n",
       "      <td>[D] A Demo from 1993 of 32-year-old Yann LeCun...</td>\n",
       "      <td>MachineLearning</td>\n",
       "      <td>https://v.redd.it/25nxi9ojfha61</td>\n",
       "      <td>Discussion</td>\n",
       "      <td>5851</td>\n",
       "      <td>133</td>\n",
       "      <td>0.98</td>\n",
       "      <td>2021-01-10 10:30:36</td>\n",
       "      <td>2021</td>\n",
       "    </tr>\n",
       "    <tr>\n",
       "      <th>2</th>\n",
       "      <td>g7nfvb</td>\n",
       "      <td>[R] First Order Motion Model applied to animat...</td>\n",
       "      <td>MachineLearning</td>\n",
       "      <td>https://v.redd.it/rlmmjm1q5wu41</td>\n",
       "      <td>Research</td>\n",
       "      <td>4761</td>\n",
       "      <td>111</td>\n",
       "      <td>0.97</td>\n",
       "      <td>2020-04-25 04:27:23</td>\n",
       "      <td>2020</td>\n",
       "    </tr>\n",
       "    <tr>\n",
       "      <th>3</th>\n",
       "      <td>lui92h</td>\n",
       "      <td>[N] AI can turn old photos into moving Images ...</td>\n",
       "      <td>MachineLearning</td>\n",
       "      <td>https://v.redd.it/ikd5gjlbi8k61</td>\n",
       "      <td>News</td>\n",
       "      <td>4688</td>\n",
       "      <td>230</td>\n",
       "      <td>0.97</td>\n",
       "      <td>2021-02-28 15:12:28</td>\n",
       "      <td>2021</td>\n",
       "    </tr>\n",
       "    <tr>\n",
       "      <th>4</th>\n",
       "      <td>ohxnts</td>\n",
       "      <td>[D] This AI reveals how much time politicians ...</td>\n",
       "      <td>MachineLearning</td>\n",
       "      <td>https://i.redd.it/34sgziebfia71.jpg</td>\n",
       "      <td>Discussion</td>\n",
       "      <td>4568</td>\n",
       "      <td>228</td>\n",
       "      <td>0.96</td>\n",
       "      <td>2021-07-11 04:18:59</td>\n",
       "      <td>2021</td>\n",
       "    </tr>\n",
       "    <tr>\n",
       "      <th>...</th>\n",
       "      <td>...</td>\n",
       "      <td>...</td>\n",
       "      <td>...</td>\n",
       "      <td>...</td>\n",
       "      <td>...</td>\n",
       "      <td>...</td>\n",
       "      <td>...</td>\n",
       "      <td>...</td>\n",
       "      <td>...</td>\n",
       "      <td>...</td>\n",
       "    </tr>\n",
       "    <tr>\n",
       "      <th>2982</th>\n",
       "      <td>slx33m</td>\n",
       "      <td>We live in beautiful times where you can learn...</td>\n",
       "      <td>artificial</td>\n",
       "      <td>https://github.com/louisfb01/start-machine-lea...</td>\n",
       "      <td>Discussion</td>\n",
       "      <td>84</td>\n",
       "      <td>6</td>\n",
       "      <td>0.90</td>\n",
       "      <td>2022-02-06 13:50:02</td>\n",
       "      <td>2022</td>\n",
       "    </tr>\n",
       "    <tr>\n",
       "      <th>2983</th>\n",
       "      <td>k9otbj</td>\n",
       "      <td>Yann LeCun’s Deep Learning Course Free From NYU</td>\n",
       "      <td>artificial</td>\n",
       "      <td>https://www.i-programmer.info/news/99-professi...</td>\n",
       "      <td>News</td>\n",
       "      <td>78</td>\n",
       "      <td>1</td>\n",
       "      <td>0.97</td>\n",
       "      <td>2020-12-09 09:22:52</td>\n",
       "      <td>2020</td>\n",
       "    </tr>\n",
       "    <tr>\n",
       "      <th>2984</th>\n",
       "      <td>k2orib</td>\n",
       "      <td>You Can Now Learn for FREE: 9 Courses by Googl...</td>\n",
       "      <td>artificial</td>\n",
       "      <td>https://laconicml.com/free-artificial-intellig...</td>\n",
       "      <td>Self Promotion</td>\n",
       "      <td>80</td>\n",
       "      <td>2</td>\n",
       "      <td>0.95</td>\n",
       "      <td>2020-11-28 14:43:43</td>\n",
       "      <td>2020</td>\n",
       "    </tr>\n",
       "    <tr>\n",
       "      <th>2985</th>\n",
       "      <td>ex9w4w</td>\n",
       "      <td>Chatbot trained on \"public domain social media...</td>\n",
       "      <td>artificial</td>\n",
       "      <td>https://ai.googleblog.com/2020/01/towards-conv...</td>\n",
       "      <td>news</td>\n",
       "      <td>80</td>\n",
       "      <td>10</td>\n",
       "      <td>0.97</td>\n",
       "      <td>2020-02-01 17:55:23</td>\n",
       "      <td>2020</td>\n",
       "    </tr>\n",
       "    <tr>\n",
       "      <th>2986</th>\n",
       "      <td>efk5n3</td>\n",
       "      <td>Tesla's Neural Net can now identify red and gr...</td>\n",
       "      <td>artificial</td>\n",
       "      <td>https://www.teslarati.com/tesla-holiday-update...</td>\n",
       "      <td>NaN</td>\n",
       "      <td>80</td>\n",
       "      <td>10</td>\n",
       "      <td>0.89</td>\n",
       "      <td>2019-12-25 18:50:50</td>\n",
       "      <td>2019</td>\n",
       "    </tr>\n",
       "  </tbody>\n",
       "</table>\n",
       "<p>2987 rows × 10 columns</p>\n",
       "</div>"
      ],
      "text/plain": [
       "     post_id                                         post_title  \\\n",
       "0     gh1dj9  [Project] From books to presentations in 10s w...   \n",
       "1     kuc6tz  [D] A Demo from 1993 of 32-year-old Yann LeCun...   \n",
       "2     g7nfvb  [R] First Order Motion Model applied to animat...   \n",
       "3     lui92h  [N] AI can turn old photos into moving Images ...   \n",
       "4     ohxnts  [D] This AI reveals how much time politicians ...   \n",
       "...      ...                                                ...   \n",
       "2982  slx33m  We live in beautiful times where you can learn...   \n",
       "2983  k9otbj    Yann LeCun’s Deep Learning Course Free From NYU   \n",
       "2984  k2orib  You Can Now Learn for FREE: 9 Courses by Googl...   \n",
       "2985  ex9w4w  Chatbot trained on \"public domain social media...   \n",
       "2986  efk5n3  Tesla's Neural Net can now identify red and gr...   \n",
       "\n",
       "            subreddit                                           post_url  \\\n",
       "0     MachineLearning                    https://v.redd.it/v492uoheuxx41   \n",
       "1     MachineLearning                    https://v.redd.it/25nxi9ojfha61   \n",
       "2     MachineLearning                    https://v.redd.it/rlmmjm1q5wu41   \n",
       "3     MachineLearning                    https://v.redd.it/ikd5gjlbi8k61   \n",
       "4     MachineLearning                https://i.redd.it/34sgziebfia71.jpg   \n",
       "...               ...                                                ...   \n",
       "2982       artificial  https://github.com/louisfb01/start-machine-lea...   \n",
       "2983       artificial  https://www.i-programmer.info/news/99-professi...   \n",
       "2984       artificial  https://laconicml.com/free-artificial-intellig...   \n",
       "2985       artificial  https://ai.googleblog.com/2020/01/towards-conv...   \n",
       "2986       artificial  https://www.teslarati.com/tesla-holiday-update...   \n",
       "\n",
       "          flair_text  score  comments  upvote_ratio            date-time  year  \n",
       "0            Project   7798       186          0.99  2020-05-10 13:19:54  2020  \n",
       "1         Discussion   5851       133          0.98  2021-01-10 10:30:36  2021  \n",
       "2           Research   4761       111          0.97  2020-04-25 04:27:23  2020  \n",
       "3               News   4688       230          0.97  2021-02-28 15:12:28  2021  \n",
       "4         Discussion   4568       228          0.96  2021-07-11 04:18:59  2021  \n",
       "...              ...    ...       ...           ...                  ...   ...  \n",
       "2982      Discussion     84         6          0.90  2022-02-06 13:50:02  2022  \n",
       "2983            News     78         1          0.97  2020-12-09 09:22:52  2020  \n",
       "2984  Self Promotion     80         2          0.95  2020-11-28 14:43:43  2020  \n",
       "2985            news     80        10          0.97  2020-02-01 17:55:23  2020  \n",
       "2986             NaN     80        10          0.89  2019-12-25 18:50:50  2019  \n",
       "\n",
       "[2987 rows x 10 columns]"
      ]
     },
     "execution_count": 2,
     "metadata": {},
     "output_type": "execute_result"
    }
   ],
   "source": [
    "original_dataFrame = pd.read_csv(\"reddit_comments_analysis.csv\")\n",
    "original_dataFrame"
   ]
  },
  {
   "cell_type": "code",
   "execution_count": 3,
   "id": "8f4c468f",
   "metadata": {},
   "outputs": [
    {
     "data": {
      "text/plain": [
       "(2987, 10)"
      ]
     },
     "execution_count": 3,
     "metadata": {},
     "output_type": "execute_result"
    }
   ],
   "source": [
    "original_dataFrame.shape"
   ]
  },
  {
   "cell_type": "code",
   "execution_count": 4,
   "id": "188c234a",
   "metadata": {},
   "outputs": [
    {
     "name": "stdout",
     "output_type": "stream",
     "text": [
      "<class 'pandas.core.frame.DataFrame'>\n",
      "RangeIndex: 2987 entries, 0 to 2986\n",
      "Data columns (total 10 columns):\n",
      " #   Column        Non-Null Count  Dtype  \n",
      "---  ------        --------------  -----  \n",
      " 0   post_id       2987 non-null   object \n",
      " 1   post_title    2987 non-null   object \n",
      " 2   subreddit     2987 non-null   object \n",
      " 3   post_url      2987 non-null   object \n",
      " 4   flair_text    2441 non-null   object \n",
      " 5   score         2987 non-null   int64  \n",
      " 6   comments      2987 non-null   int64  \n",
      " 7   upvote_ratio  2987 non-null   float64\n",
      " 8   date-time     2987 non-null   object \n",
      " 9   year          2987 non-null   int64  \n",
      "dtypes: float64(1), int64(3), object(6)\n",
      "memory usage: 233.5+ KB\n"
     ]
    }
   ],
   "source": [
    "original_dataFrame.info()"
   ]
  },
  {
   "cell_type": "code",
   "execution_count": 5,
   "id": "e4780492",
   "metadata": {},
   "outputs": [],
   "source": [
    "import nltk\n",
    "from nltk.corpus import stopwords\n",
    "from nltk.stem import WordNetLemmatizer"
   ]
  },
  {
   "cell_type": "code",
   "execution_count": 6,
   "id": "315c8069",
   "metadata": {},
   "outputs": [
    {
     "name": "stderr",
     "output_type": "stream",
     "text": [
      "[nltk_data] Downloading package stopwords to\n",
      "[nltk_data]     C:\\Users\\rajkumar.p\\AppData\\Roaming\\nltk_data...\n",
      "[nltk_data]   Unzipping corpora\\stopwords.zip.\n"
     ]
    },
    {
     "data": {
      "text/plain": [
       "True"
      ]
     },
     "execution_count": 6,
     "metadata": {},
     "output_type": "execute_result"
    }
   ],
   "source": [
    "nltk.download('stopwords')"
   ]
  },
  {
   "cell_type": "code",
   "execution_count": 7,
   "id": "138c6990",
   "metadata": {},
   "outputs": [
    {
     "name": "stderr",
     "output_type": "stream",
     "text": [
      "[nltk_data] Downloading package wordnet to\n",
      "[nltk_data]     C:\\Users\\rajkumar.p\\AppData\\Roaming\\nltk_data...\n"
     ]
    },
    {
     "data": {
      "text/plain": [
       "True"
      ]
     },
     "execution_count": 7,
     "metadata": {},
     "output_type": "execute_result"
    }
   ],
   "source": [
    "nltk.download('wordnet')"
   ]
  },
  {
   "cell_type": "code",
   "execution_count": 10,
   "id": "65b6370b",
   "metadata": {},
   "outputs": [
    {
     "data": {
      "text/plain": [
       "0       [Project] From books to presentations in 10s w...\n",
       "1       [D] A Demo from 1993 of 32-year-old Yann LeCun...\n",
       "2       [R] First Order Motion Model applied to animat...\n",
       "3       [N] AI can turn old photos into moving Images ...\n",
       "4       [D] This AI reveals how much time politicians ...\n",
       "                              ...                        \n",
       "2982    We live in beautiful times where you can learn...\n",
       "2983      Yann LeCun’s Deep Learning Course Free From NYU\n",
       "2984    You Can Now Learn for FREE: 9 Courses by Googl...\n",
       "2985    Chatbot trained on \"public domain social media...\n",
       "2986    Tesla's Neural Net can now identify red and gr...\n",
       "Name: post_title, Length: 2987, dtype: object"
      ]
     },
     "execution_count": 10,
     "metadata": {},
     "output_type": "execute_result"
    }
   ],
   "source": [
    "original_dataFrame.post_title"
   ]
  },
  {
   "cell_type": "code",
   "execution_count": 12,
   "id": "1d93473a",
   "metadata": {},
   "outputs": [
    {
     "data": {
      "text/plain": [
       "'[Project] From books to presentations in 10s with AR + ML'"
      ]
     },
     "execution_count": 12,
     "metadata": {},
     "output_type": "execute_result"
    }
   ],
   "source": [
    "original_dataFrame.post_title[0]"
   ]
  },
  {
   "cell_type": "code",
   "execution_count": 13,
   "id": "65484f7d",
   "metadata": {},
   "outputs": [
    {
     "data": {
      "text/html": [
       "<div>\n",
       "<style scoped>\n",
       "    .dataframe tbody tr th:only-of-type {\n",
       "        vertical-align: middle;\n",
       "    }\n",
       "\n",
       "    .dataframe tbody tr th {\n",
       "        vertical-align: top;\n",
       "    }\n",
       "\n",
       "    .dataframe thead th {\n",
       "        text-align: right;\n",
       "    }\n",
       "</style>\n",
       "<table border=\"1\" class=\"dataframe\">\n",
       "  <thead>\n",
       "    <tr style=\"text-align: right;\">\n",
       "      <th></th>\n",
       "      <th>post_id</th>\n",
       "      <th>comment</th>\n",
       "    </tr>\n",
       "  </thead>\n",
       "  <tbody>\n",
       "    <tr>\n",
       "      <th>0</th>\n",
       "      <td>gh1dj9</td>\n",
       "      <td>Twitter thread: [https://twitter.com/cyrildiag...</td>\n",
       "    </tr>\n",
       "    <tr>\n",
       "      <th>1</th>\n",
       "      <td>gh1dj9</td>\n",
       "      <td>The future 🤯</td>\n",
       "    </tr>\n",
       "    <tr>\n",
       "      <th>2</th>\n",
       "      <td>gh1dj9</td>\n",
       "      <td>Simple yet very useful. Thank you for sharing ...</td>\n",
       "    </tr>\n",
       "    <tr>\n",
       "      <th>3</th>\n",
       "      <td>gh1dj9</td>\n",
       "      <td>Almost guaranteed, Apple will copy your idea i...</td>\n",
       "    </tr>\n",
       "    <tr>\n",
       "      <th>4</th>\n",
       "      <td>gh1dj9</td>\n",
       "      <td>Ohh the nightmare of making this into a stable...</td>\n",
       "    </tr>\n",
       "    <tr>\n",
       "      <th>...</th>\n",
       "      <td>...</td>\n",
       "      <td>...</td>\n",
       "    </tr>\n",
       "    <tr>\n",
       "      <th>223169</th>\n",
       "      <td>efk5n3</td>\n",
       "      <td>LiDAR is mot powerful sensor for the auto driv...</td>\n",
       "    </tr>\n",
       "    <tr>\n",
       "      <th>223170</th>\n",
       "      <td>efk5n3</td>\n",
       "      <td>So it can now idenrify traffic lights? Musk pr...</td>\n",
       "    </tr>\n",
       "    <tr>\n",
       "      <th>223171</th>\n",
       "      <td>efk5n3</td>\n",
       "      <td>Hydranet bro!</td>\n",
       "    </tr>\n",
       "    <tr>\n",
       "      <th>223172</th>\n",
       "      <td>efk5n3</td>\n",
       "      <td>It even shows flashing yellow turn arrows.</td>\n",
       "    </tr>\n",
       "    <tr>\n",
       "      <th>223173</th>\n",
       "      <td>efk5n3</td>\n",
       "      <td>Ya just saw karpathy talk on hydra and pytorch.</td>\n",
       "    </tr>\n",
       "  </tbody>\n",
       "</table>\n",
       "<p>223174 rows × 2 columns</p>\n",
       "</div>"
      ],
      "text/plain": [
       "       post_id                                            comment\n",
       "0       gh1dj9  Twitter thread: [https://twitter.com/cyrildiag...\n",
       "1       gh1dj9                                       The future 🤯\n",
       "2       gh1dj9  Simple yet very useful. Thank you for sharing ...\n",
       "3       gh1dj9  Almost guaranteed, Apple will copy your idea i...\n",
       "4       gh1dj9  Ohh the nightmare of making this into a stable...\n",
       "...        ...                                                ...\n",
       "223169  efk5n3  LiDAR is mot powerful sensor for the auto driv...\n",
       "223170  efk5n3  So it can now idenrify traffic lights? Musk pr...\n",
       "223171  efk5n3                                      Hydranet bro!\n",
       "223172  efk5n3         It even shows flashing yellow turn arrows.\n",
       "223173  efk5n3    Ya just saw karpathy talk on hydra and pytorch.\n",
       "\n",
       "[223174 rows x 2 columns]"
      ]
     },
     "execution_count": 13,
     "metadata": {},
     "output_type": "execute_result"
    }
   ],
   "source": [
    "posts_comments_dataFrame = pd.read_csv(\"reddit_posts_comments.csv\")\n",
    "posts_comments_dataFrame"
   ]
  },
  {
   "cell_type": "code",
   "execution_count": null,
   "id": "4a83b941",
   "metadata": {},
   "outputs": [],
   "source": []
  }
 ],
 "metadata": {
  "kernelspec": {
   "display_name": "Python 3 (ipykernel)",
   "language": "python",
   "name": "python3"
  },
  "language_info": {
   "codemirror_mode": {
    "name": "ipython",
    "version": 3
   },
   "file_extension": ".py",
   "mimetype": "text/x-python",
   "name": "python",
   "nbconvert_exporter": "python",
   "pygments_lexer": "ipython3",
   "version": "3.9.16"
  }
 },
 "nbformat": 4,
 "nbformat_minor": 5
}
